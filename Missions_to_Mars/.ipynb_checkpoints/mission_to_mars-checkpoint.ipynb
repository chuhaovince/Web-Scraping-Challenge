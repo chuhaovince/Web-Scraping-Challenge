{
 "cells": [
  {
   "cell_type": "code",
   "execution_count": 1,
   "metadata": {},
   "outputs": [],
   "source": [
    "from bs4 import BeautifulSoup as bs\n",
    "import pandas as pd\n",
    "from splinter import Browser"
   ]
  },
  {
   "cell_type": "code",
   "execution_count": 2,
   "metadata": {},
   "outputs": [],
   "source": [
    "# chromedriver path definition\n",
    "executable_path = {'executable_path': 'chromedriver.exe'}"
   ]
  },
  {
   "cell_type": "markdown",
   "metadata": {},
   "source": [
    "# NASA Mars News"
   ]
  },
  {
   "cell_type": "code",
   "execution_count": 3,
   "metadata": {},
   "outputs": [
    {
     "name": "stdout",
     "output_type": "stream",
     "text": [
      "news_title: NASA's Treasure Map for Water Ice on Mars\n",
      "news_p: A new study identifies frozen water just below the Martian surface, where astronauts could easily dig it up.\n"
     ]
    }
   ],
   "source": [
    "# find the latest news title and para\n",
    "browser = Browser('chrome', **executable_path, headless=False)\n",
    "url = 'https://mars.nasa.gov/news/?page=0&per_page=40&order=publish_date+desc%2Ccreated_at+desc&search=&category=19%2C165%2C184%2C204&blank_scope=Latest'\n",
    "browser.visit(url)\n",
    "html = browser.html\n",
    "soup = bs(html, \"lxml\")\n",
    "news_title = soup.find(\"div\",class_=\"content_title\").a.text\n",
    "news_p = soup.find(\"div\",class_=\"article_teaser_body\").text\n",
    "browser.quit()\n",
    "print(f\"news_title: {news_title}\")\n",
    "print(f\"news_p: {news_p}\")"
   ]
  },
  {
   "cell_type": "markdown",
   "metadata": {},
   "source": [
    "# JPL Mars Space Images - Featured Image"
   ]
  },
  {
   "cell_type": "code",
   "execution_count": 4,
   "metadata": {},
   "outputs": [
    {
     "name": "stdout",
     "output_type": "stream",
     "text": [
      "full-sized current featrued image url: https://www.jpl.nasa.gov/spaceimages/images/largesize/PIA17794_hires.jpg\n"
     ]
    }
   ],
   "source": [
    "#find the current featured fullsize image url\n",
    "\n",
    "# open initial website\n",
    "url = \"https://www.jpl.nasa.gov/spaceimages/?search=&category=Mars\"\n",
    "browser = Browser('chrome', **executable_path, headless=False)\n",
    "browser.visit(url)\n",
    "html = browser.html\n",
    "soup = bs(html,\"lxml\")\n",
    "\n",
    "#get the datalink from this webpage\n",
    "md_size = soup.find(\"footer\").a[\"data-link\"] #medium sized\n",
    "full_url = \"https://www.jpl.nasa.gov\" + md_size\n",
    "\n",
    "#close the browser\n",
    "browser.quit()\n",
    "#from selenium import webdriver\n",
    "#browser.driver.execute_script(\"window.open(full_url);\")\n",
    "\n",
    "#go to the webpage where the fullsized image can be found\n",
    "browser = Browser('chrome', **executable_path, headless=False)\n",
    "browser.visit(full_url)\n",
    "html = browser.html\n",
    "soup = bs(html,\"lxml\")\n",
    "\n",
    "#Get the url for the full-sized image\n",
    "lg_size = soup.find(\"figure\").a.img[\"src\"]\n",
    "featured_image_url = f\"https://www.jpl.nasa.gov{lg_size}\"\n",
    "\n",
    "#close the browser\n",
    "browser.quit()\n",
    "\n",
    "#print the full-sized image url\n",
    "print(f\"full-sized current featrued image url: {featured_image_url}\")"
   ]
  },
  {
   "cell_type": "markdown",
   "metadata": {},
   "source": [
    "# Mars Weather"
   ]
  },
  {
   "cell_type": "code",
   "execution_count": 5,
   "metadata": {
    "scrolled": true
   },
   "outputs": [
    {
     "name": "stdout",
     "output_type": "stream",
     "text": [
      "Latest Mars weather: InSight sol 372 (2019-12-13) low -97.2ºC (-143.0ºF) high -21.2ºC (-6.2ºF)\n",
      "winds from the SSE at 5.9 m/s (13.3 mph) gusting to 20.2 m/s (45.2 mph)\n",
      "pressure at 6.60 hPa\n"
     ]
    }
   ],
   "source": [
    "url = \"https://twitter.com/marswxreport?lang=en\"\n",
    "browser = Browser('chrome', **executable_path, headless=False)\n",
    "browser.visit(url)\n",
    "html = browser.html\n",
    "soup = bs(html,\"lxml\")\n",
    "mars_weather = soup.find(\"p\", class_ = \"tweet-text\").text\n",
    "browser.quit()\n",
    "\n",
    "#print the latest weather text\n",
    "print(\"Latest Mars weather: \" + mars_weather.split(\"pic\")[0])"
   ]
  },
  {
   "cell_type": "markdown",
   "metadata": {},
   "source": [
    "# Mars Facts\n",
    "\n",
    "\n"
   ]
  },
  {
   "cell_type": "code",
   "execution_count": 6,
   "metadata": {},
   "outputs": [],
   "source": [
    "url = \"https://space-facts.com/mars/\"\n",
    "df = pd.read_html(url)\n",
    "df = df[0]\n",
    "table = df.to_html()"
   ]
  },
  {
   "cell_type": "markdown",
   "metadata": {},
   "source": [
    "# Mars Hemispheres"
   ]
  },
  {
   "cell_type": "code",
   "execution_count": 7,
   "metadata": {},
   "outputs": [
    {
     "name": "stderr",
     "output_type": "stream",
     "text": [
      "D:\\Anaconda3\\lib\\site-packages\\splinter\\driver\\webdriver\\__init__.py:504: FutureWarning: browser.find_link_by_partial_text is deprecated. Use browser.links.find_by_partial_text instead.\n",
      "  FutureWarning,\n"
     ]
    }
   ],
   "source": [
    "#open main web page\n",
    "url = \"https://astrogeology.usgs.gov/search/results?q=hemisphere+enhanced&k1=target&v1=Mars\"\n",
    "browser = Browser('chrome', **executable_path, headless=False)\n",
    "browser.visit(url)\n",
    "html = browser.html\n",
    "soup = bs(html,\"lxml\")\n",
    "imgs = soup.find_all(\"div\", class_ = \"item\") # find all divisions containing differnt hemispheres\n",
    "\n",
    "#create an empty dict\n",
    "hemispheres = []\n",
    "#loop through each hemisophere and get title and image link\n",
    "for img in imgs:\n",
    "    hemisphere = {}\n",
    "    title = img.find('div', class_=\"description\").a.h3.text\n",
    "    browser.click_link_by_partial_text(title)\n",
    "    html = browser.html\n",
    "    soup = bs(html,\"lxml\")\n",
    "    img_link = soup.ul.li.a[\"href\"]\n",
    "    hemisphere[\"title\"] = title.split(\" E\")[0]\n",
    "    hemisphere[\"img_url\"] = img_link\n",
    "    hemispheres.append(hemisphere)\n",
    "    browser.back()\n",
    "browser.quit()"
   ]
  },
  {
   "cell_type": "code",
   "execution_count": 8,
   "metadata": {},
   "outputs": [
    {
     "data": {
      "text/plain": [
       "[{'title': 'Cerberus Hemisphere',\n",
       "  'img_url': 'http://astropedia.astrogeology.usgs.gov/download/Mars/Viking/cerberus_enhanced.tif/full.jpg'},\n",
       " {'title': 'Schiaparelli Hemisphere',\n",
       "  'img_url': 'http://astropedia.astrogeology.usgs.gov/download/Mars/Viking/schiaparelli_enhanced.tif/full.jpg'},\n",
       " {'title': 'Syrtis Major Hemisphere',\n",
       "  'img_url': 'http://astropedia.astrogeology.usgs.gov/download/Mars/Viking/syrtis_major_enhanced.tif/full.jpg'},\n",
       " {'title': 'Valles Marineris Hemisphere',\n",
       "  'img_url': 'http://astropedia.astrogeology.usgs.gov/download/Mars/Viking/valles_marineris_enhanced.tif/full.jpg'}]"
      ]
     },
     "execution_count": 8,
     "metadata": {},
     "output_type": "execute_result"
    }
   ],
   "source": [
    "hemispheres"
   ]
  },
  {
   "cell_type": "code",
   "execution_count": null,
   "metadata": {},
   "outputs": [],
   "source": []
  }
 ],
 "metadata": {
  "kernelspec": {
   "display_name": "Python 3",
   "language": "python",
   "name": "python3"
  },
  "language_info": {
   "codemirror_mode": {
    "name": "ipython",
    "version": 3
   },
   "file_extension": ".py",
   "mimetype": "text/x-python",
   "name": "python",
   "nbconvert_exporter": "python",
   "pygments_lexer": "ipython3",
   "version": "3.7.5"
  }
 },
 "nbformat": 4,
 "nbformat_minor": 2
}
